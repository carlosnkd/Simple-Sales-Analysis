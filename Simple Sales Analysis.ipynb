{
 "cells": [
  {
   "cell_type": "code",
   "execution_count": 1,
   "metadata": {},
   "outputs": [],
   "source": [
    "import pandas as pd\n",
    "import numpy as np\n",
    "import os\n",
    "from datetime import datetime\n",
    "import seaborn as sns\n",
    "import matplotlib.pyplot as plt"
   ]
  },
  {
   "cell_type": "markdown",
   "metadata": {},
   "source": [
    "## Get the data\n",
    "\n",
    "  * The data are 12 files containing the business sales (one for each month)\n",
    "  * All 12 files are stored on a folder name \"Sales Data\"\n",
    "  * The path to get there is the following (on my computer)\n",
    "      * '.\\\\Desktop\\\\Pandas-Data-Science-Tasks-master\\\\SalesAnalysis\\\\Sales Data'"
   ]
  },
  {
   "cell_type": "markdown",
   "metadata": {},
   "source": [
    "### Merge/Combine all the files into a singe one"
   ]
  },
  {
   "cell_type": "code",
   "execution_count": 2,
   "metadata": {},
   "outputs": [
    {
     "name": "stdout",
     "output_type": "stream",
     "text": [
      "Sales_April_2019.csv\n",
      "Sales_August_2019.csv\n",
      "Sales_December_2019.csv\n",
      "Sales_February_2019.csv\n",
      "Sales_January_2019.csv\n",
      "Sales_July_2019.csv\n",
      "Sales_June_2019.csv\n",
      "Sales_March_2019.csv\n",
      "Sales_May_2019.csv\n",
      "Sales_November_2019.csv\n",
      "Sales_October_2019.csv\n",
      "Sales_September_2019.csv\n"
     ]
    }
   ],
   "source": [
    "#Get the file names\n",
    "files = [file for file in os.listdir('.\\\\Desktop\\\\Pandas-Data-Science-Tasks-master\\\\SalesAnalysis\\\\Sales Data')]\n",
    "\n",
    "#Create a pandas df object\n",
    "all_months_data = pd.DataFrame()\n",
    "\n",
    "#Loop on every file in the folder and store them on the pandas df\n",
    "for file in files:\n",
    "    df = pd.read_csv('.\\\\Desktop\\\\Pandas-Data-Science-Tasks-master\\\\SalesAnalysis\\\\Sales Data\\\\'+file)\n",
    "    all_months_data = pd.concat([all_months_data,df])\n",
    "    print(file)\n"
   ]
  },
  {
   "cell_type": "markdown",
   "metadata": {},
   "source": [
    "### Complete data\n",
    "\n",
    "   * Checking the data it´s everything it´s fine\n",
    "   * Also get one file which contains all the data, it´s helpfull not reading all that data from the loop"
   ]
  },
  {
   "cell_type": "code",
   "execution_count": 3,
   "metadata": {},
   "outputs": [],
   "source": [
    "all_months_data.to_csv('.\\\\Desktop\\\\all_data_months.csv',index=False)"
   ]
  },
  {
   "cell_type": "code",
   "execution_count": 4,
   "metadata": {},
   "outputs": [],
   "source": [
    "data = all_months_data.copy()"
   ]
  },
  {
   "cell_type": "code",
   "execution_count": 5,
   "metadata": {},
   "outputs": [
    {
     "data": {
      "text/html": [
       "<div>\n",
       "<style scoped>\n",
       "    .dataframe tbody tr th:only-of-type {\n",
       "        vertical-align: middle;\n",
       "    }\n",
       "\n",
       "    .dataframe tbody tr th {\n",
       "        vertical-align: top;\n",
       "    }\n",
       "\n",
       "    .dataframe thead th {\n",
       "        text-align: right;\n",
       "    }\n",
       "</style>\n",
       "<table border=\"1\" class=\"dataframe\">\n",
       "  <thead>\n",
       "    <tr style=\"text-align: right;\">\n",
       "      <th></th>\n",
       "      <th>Order ID</th>\n",
       "      <th>Product</th>\n",
       "      <th>Quantity Ordered</th>\n",
       "      <th>Price Each</th>\n",
       "      <th>Order Date</th>\n",
       "      <th>Purchase Address</th>\n",
       "    </tr>\n",
       "  </thead>\n",
       "  <tbody>\n",
       "    <tr>\n",
       "      <th>0</th>\n",
       "      <td>176558</td>\n",
       "      <td>USB-C Charging Cable</td>\n",
       "      <td>2</td>\n",
       "      <td>11.95</td>\n",
       "      <td>04/19/19 08:46</td>\n",
       "      <td>917 1st St, Dallas, TX 75001</td>\n",
       "    </tr>\n",
       "    <tr>\n",
       "      <th>1</th>\n",
       "      <td>NaN</td>\n",
       "      <td>NaN</td>\n",
       "      <td>NaN</td>\n",
       "      <td>NaN</td>\n",
       "      <td>NaN</td>\n",
       "      <td>NaN</td>\n",
       "    </tr>\n",
       "    <tr>\n",
       "      <th>2</th>\n",
       "      <td>176559</td>\n",
       "      <td>Bose SoundSport Headphones</td>\n",
       "      <td>1</td>\n",
       "      <td>99.99</td>\n",
       "      <td>04/07/19 22:30</td>\n",
       "      <td>682 Chestnut St, Boston, MA 02215</td>\n",
       "    </tr>\n",
       "    <tr>\n",
       "      <th>3</th>\n",
       "      <td>176560</td>\n",
       "      <td>Google Phone</td>\n",
       "      <td>1</td>\n",
       "      <td>600</td>\n",
       "      <td>04/12/19 14:38</td>\n",
       "      <td>669 Spruce St, Los Angeles, CA 90001</td>\n",
       "    </tr>\n",
       "    <tr>\n",
       "      <th>4</th>\n",
       "      <td>176560</td>\n",
       "      <td>Wired Headphones</td>\n",
       "      <td>1</td>\n",
       "      <td>11.99</td>\n",
       "      <td>04/12/19 14:38</td>\n",
       "      <td>669 Spruce St, Los Angeles, CA 90001</td>\n",
       "    </tr>\n",
       "  </tbody>\n",
       "</table>\n",
       "</div>"
      ],
      "text/plain": [
       "  Order ID                     Product Quantity Ordered Price Each  \\\n",
       "0   176558        USB-C Charging Cable                2      11.95   \n",
       "1      NaN                         NaN              NaN        NaN   \n",
       "2   176559  Bose SoundSport Headphones                1      99.99   \n",
       "3   176560                Google Phone                1        600   \n",
       "4   176560            Wired Headphones                1      11.99   \n",
       "\n",
       "       Order Date                      Purchase Address  \n",
       "0  04/19/19 08:46          917 1st St, Dallas, TX 75001  \n",
       "1             NaN                                   NaN  \n",
       "2  04/07/19 22:30     682 Chestnut St, Boston, MA 02215  \n",
       "3  04/12/19 14:38  669 Spruce St, Los Angeles, CA 90001  \n",
       "4  04/12/19 14:38  669 Spruce St, Los Angeles, CA 90001  "
      ]
     },
     "execution_count": 5,
     "metadata": {},
     "output_type": "execute_result"
    }
   ],
   "source": [
    "data.head()"
   ]
  },
  {
   "cell_type": "code",
   "execution_count": 6,
   "metadata": {},
   "outputs": [
    {
     "data": {
      "text/html": [
       "<div>\n",
       "<style scoped>\n",
       "    .dataframe tbody tr th:only-of-type {\n",
       "        vertical-align: middle;\n",
       "    }\n",
       "\n",
       "    .dataframe tbody tr th {\n",
       "        vertical-align: top;\n",
       "    }\n",
       "\n",
       "    .dataframe thead th {\n",
       "        text-align: right;\n",
       "    }\n",
       "</style>\n",
       "<table border=\"1\" class=\"dataframe\">\n",
       "  <thead>\n",
       "    <tr style=\"text-align: right;\">\n",
       "      <th></th>\n",
       "      <th>Order ID</th>\n",
       "      <th>Product</th>\n",
       "      <th>Quantity Ordered</th>\n",
       "      <th>Price Each</th>\n",
       "      <th>Order Date</th>\n",
       "      <th>Purchase Address</th>\n",
       "    </tr>\n",
       "  </thead>\n",
       "  <tbody>\n",
       "    <tr>\n",
       "      <th>0</th>\n",
       "      <td>176558</td>\n",
       "      <td>USB-C Charging Cable</td>\n",
       "      <td>2</td>\n",
       "      <td>11.95</td>\n",
       "      <td>04/19/19 08:46</td>\n",
       "      <td>917 1st St, Dallas, TX 75001</td>\n",
       "    </tr>\n",
       "    <tr>\n",
       "      <th>2</th>\n",
       "      <td>176559</td>\n",
       "      <td>Bose SoundSport Headphones</td>\n",
       "      <td>1</td>\n",
       "      <td>99.99</td>\n",
       "      <td>04/07/19 22:30</td>\n",
       "      <td>682 Chestnut St, Boston, MA 02215</td>\n",
       "    </tr>\n",
       "    <tr>\n",
       "      <th>3</th>\n",
       "      <td>176560</td>\n",
       "      <td>Google Phone</td>\n",
       "      <td>1</td>\n",
       "      <td>600</td>\n",
       "      <td>04/12/19 14:38</td>\n",
       "      <td>669 Spruce St, Los Angeles, CA 90001</td>\n",
       "    </tr>\n",
       "    <tr>\n",
       "      <th>4</th>\n",
       "      <td>176560</td>\n",
       "      <td>Wired Headphones</td>\n",
       "      <td>1</td>\n",
       "      <td>11.99</td>\n",
       "      <td>04/12/19 14:38</td>\n",
       "      <td>669 Spruce St, Los Angeles, CA 90001</td>\n",
       "    </tr>\n",
       "    <tr>\n",
       "      <th>5</th>\n",
       "      <td>176561</td>\n",
       "      <td>Wired Headphones</td>\n",
       "      <td>1</td>\n",
       "      <td>11.99</td>\n",
       "      <td>04/30/19 09:27</td>\n",
       "      <td>333 8th St, Los Angeles, CA 90001</td>\n",
       "    </tr>\n",
       "  </tbody>\n",
       "</table>\n",
       "</div>"
      ],
      "text/plain": [
       "  Order ID                     Product Quantity Ordered Price Each  \\\n",
       "0   176558        USB-C Charging Cable                2      11.95   \n",
       "2   176559  Bose SoundSport Headphones                1      99.99   \n",
       "3   176560                Google Phone                1        600   \n",
       "4   176560            Wired Headphones                1      11.99   \n",
       "5   176561            Wired Headphones                1      11.99   \n",
       "\n",
       "       Order Date                      Purchase Address  \n",
       "0  04/19/19 08:46          917 1st St, Dallas, TX 75001  \n",
       "2  04/07/19 22:30     682 Chestnut St, Boston, MA 02215  \n",
       "3  04/12/19 14:38  669 Spruce St, Los Angeles, CA 90001  \n",
       "4  04/12/19 14:38  669 Spruce St, Los Angeles, CA 90001  \n",
       "5  04/30/19 09:27     333 8th St, Los Angeles, CA 90001  "
      ]
     },
     "execution_count": 6,
     "metadata": {},
     "output_type": "execute_result"
    }
   ],
   "source": [
    "data.dropna(axis=0,inplace=True,how='all')\n",
    "data.head()"
   ]
  },
  {
   "cell_type": "code",
   "execution_count": 7,
   "metadata": {},
   "outputs": [
    {
     "data": {
      "text/plain": [
       "(186850, 6)"
      ]
     },
     "execution_count": 7,
     "metadata": {},
     "output_type": "execute_result"
    }
   ],
   "source": [
    "all_months_data.shape"
   ]
  },
  {
   "cell_type": "code",
   "execution_count": 8,
   "metadata": {},
   "outputs": [
    {
     "data": {
      "text/plain": [
       "(186305, 6)"
      ]
     },
     "execution_count": 8,
     "metadata": {},
     "output_type": "execute_result"
    }
   ],
   "source": [
    "data.shape"
   ]
  },
  {
   "cell_type": "code",
   "execution_count": 9,
   "metadata": {},
   "outputs": [
    {
     "data": {
      "text/plain": [
       "Series([], dtype: int64)"
      ]
     },
     "execution_count": 9,
     "metadata": {},
     "output_type": "execute_result"
    }
   ],
   "source": [
    "data.isnull().sum()[data.isnull().sum() > 0]"
   ]
  },
  {
   "cell_type": "code",
   "execution_count": 10,
   "metadata": {},
   "outputs": [
    {
     "data": {
      "text/plain": [
       "Order ID            545\n",
       "Product             545\n",
       "Quantity Ordered    545\n",
       "Price Each          545\n",
       "Order Date          545\n",
       "Purchase Address    545\n",
       "dtype: int64"
      ]
     },
     "execution_count": 10,
     "metadata": {},
     "output_type": "execute_result"
    }
   ],
   "source": [
    "all_months_data.isnull().sum()[all_months_data.isnull().sum()>0]"
   ]
  },
  {
   "cell_type": "code",
   "execution_count": 11,
   "metadata": {},
   "outputs": [
    {
     "name": "stdout",
     "output_type": "stream",
     "text": [
      "<class 'pandas.core.frame.DataFrame'>\n",
      "Int64Index: 186305 entries, 0 to 11685\n",
      "Data columns (total 6 columns):\n",
      " #   Column            Non-Null Count   Dtype \n",
      "---  ------            --------------   ----- \n",
      " 0   Order ID          186305 non-null  object\n",
      " 1   Product           186305 non-null  object\n",
      " 2   Quantity Ordered  186305 non-null  object\n",
      " 3   Price Each        186305 non-null  object\n",
      " 4   Order Date        186305 non-null  object\n",
      " 5   Purchase Address  186305 non-null  object\n",
      "dtypes: object(6)\n",
      "memory usage: 9.9+ MB\n"
     ]
    }
   ],
   "source": [
    "data.info()"
   ]
  },
  {
   "cell_type": "code",
   "execution_count": 12,
   "metadata": {},
   "outputs": [
    {
     "data": {
      "text/html": [
       "<div>\n",
       "<style scoped>\n",
       "    .dataframe tbody tr th:only-of-type {\n",
       "        vertical-align: middle;\n",
       "    }\n",
       "\n",
       "    .dataframe tbody tr th {\n",
       "        vertical-align: top;\n",
       "    }\n",
       "\n",
       "    .dataframe thead th {\n",
       "        text-align: right;\n",
       "    }\n",
       "</style>\n",
       "<table border=\"1\" class=\"dataframe\">\n",
       "  <thead>\n",
       "    <tr style=\"text-align: right;\">\n",
       "      <th></th>\n",
       "      <th>Order ID</th>\n",
       "      <th>Product</th>\n",
       "      <th>Quantity Ordered</th>\n",
       "      <th>Price Each</th>\n",
       "      <th>Order Date</th>\n",
       "      <th>Purchase Address</th>\n",
       "    </tr>\n",
       "  </thead>\n",
       "  <tbody>\n",
       "    <tr>\n",
       "      <th>0</th>\n",
       "      <td>176558</td>\n",
       "      <td>USB-C Charging Cable</td>\n",
       "      <td>2</td>\n",
       "      <td>11.95</td>\n",
       "      <td>04/19/19 08:46</td>\n",
       "      <td>917 1st St, Dallas, TX 75001</td>\n",
       "    </tr>\n",
       "    <tr>\n",
       "      <th>2</th>\n",
       "      <td>176559</td>\n",
       "      <td>Bose SoundSport Headphones</td>\n",
       "      <td>1</td>\n",
       "      <td>99.99</td>\n",
       "      <td>04/07/19 22:30</td>\n",
       "      <td>682 Chestnut St, Boston, MA 02215</td>\n",
       "    </tr>\n",
       "    <tr>\n",
       "      <th>3</th>\n",
       "      <td>176560</td>\n",
       "      <td>Google Phone</td>\n",
       "      <td>1</td>\n",
       "      <td>600</td>\n",
       "      <td>04/12/19 14:38</td>\n",
       "      <td>669 Spruce St, Los Angeles, CA 90001</td>\n",
       "    </tr>\n",
       "    <tr>\n",
       "      <th>4</th>\n",
       "      <td>176560</td>\n",
       "      <td>Wired Headphones</td>\n",
       "      <td>1</td>\n",
       "      <td>11.99</td>\n",
       "      <td>04/12/19 14:38</td>\n",
       "      <td>669 Spruce St, Los Angeles, CA 90001</td>\n",
       "    </tr>\n",
       "    <tr>\n",
       "      <th>5</th>\n",
       "      <td>176561</td>\n",
       "      <td>Wired Headphones</td>\n",
       "      <td>1</td>\n",
       "      <td>11.99</td>\n",
       "      <td>04/30/19 09:27</td>\n",
       "      <td>333 8th St, Los Angeles, CA 90001</td>\n",
       "    </tr>\n",
       "  </tbody>\n",
       "</table>\n",
       "</div>"
      ],
      "text/plain": [
       "  Order ID                     Product Quantity Ordered Price Each  \\\n",
       "0   176558        USB-C Charging Cable                2      11.95   \n",
       "2   176559  Bose SoundSport Headphones                1      99.99   \n",
       "3   176560                Google Phone                1        600   \n",
       "4   176560            Wired Headphones                1      11.99   \n",
       "5   176561            Wired Headphones                1      11.99   \n",
       "\n",
       "       Order Date                      Purchase Address  \n",
       "0  04/19/19 08:46          917 1st St, Dallas, TX 75001  \n",
       "2  04/07/19 22:30     682 Chestnut St, Boston, MA 02215  \n",
       "3  04/12/19 14:38  669 Spruce St, Los Angeles, CA 90001  \n",
       "4  04/12/19 14:38  669 Spruce St, Los Angeles, CA 90001  \n",
       "5  04/30/19 09:27     333 8th St, Los Angeles, CA 90001  "
      ]
     },
     "execution_count": 12,
     "metadata": {},
     "output_type": "execute_result"
    }
   ],
   "source": [
    "data.head()"
   ]
  },
  {
   "cell_type": "code",
   "execution_count": 13,
   "metadata": {},
   "outputs": [],
   "source": [
    "data = data[data['Quantity Ordered'] != 'Quantity Ordered']"
   ]
  },
  {
   "cell_type": "markdown",
   "metadata": {},
   "source": [
    "### Extracting more columns from those we already have\n",
    "\n",
    "  * Once we already have a timestamp column, we can extract whatever \"date time\" we want\n",
    "      * Month\n",
    "      * Month name\n",
    "      * Day\n",
    "      * Day name\n",
    "      * Week\n",
    "      * Hour\n",
    "      * Etc..."
   ]
  },
  {
   "cell_type": "code",
   "execution_count": 14,
   "metadata": {},
   "outputs": [],
   "source": [
    "data['Date'] = pd.to_datetime(data['Order Date'])\n",
    "data['Quantity Ordered'] = data['Quantity Ordered'].astype('int64')\n",
    "data['Price Each'] = data['Price Each'].astype('float64')\n",
    "data['Total Order'] = data['Price Each'] * data['Quantity Ordered']"
   ]
  },
  {
   "cell_type": "code",
   "execution_count": 15,
   "metadata": {},
   "outputs": [
    {
     "data": {
      "text/html": [
       "<div>\n",
       "<style scoped>\n",
       "    .dataframe tbody tr th:only-of-type {\n",
       "        vertical-align: middle;\n",
       "    }\n",
       "\n",
       "    .dataframe tbody tr th {\n",
       "        vertical-align: top;\n",
       "    }\n",
       "\n",
       "    .dataframe thead th {\n",
       "        text-align: right;\n",
       "    }\n",
       "</style>\n",
       "<table border=\"1\" class=\"dataframe\">\n",
       "  <thead>\n",
       "    <tr style=\"text-align: right;\">\n",
       "      <th></th>\n",
       "      <th>Order ID</th>\n",
       "      <th>Product</th>\n",
       "      <th>Quantity Ordered</th>\n",
       "      <th>Price Each</th>\n",
       "      <th>Order Date</th>\n",
       "      <th>Purchase Address</th>\n",
       "      <th>Date</th>\n",
       "      <th>Total Order</th>\n",
       "    </tr>\n",
       "  </thead>\n",
       "  <tbody>\n",
       "    <tr>\n",
       "      <th>0</th>\n",
       "      <td>176558</td>\n",
       "      <td>USB-C Charging Cable</td>\n",
       "      <td>2</td>\n",
       "      <td>11.95</td>\n",
       "      <td>04/19/19 08:46</td>\n",
       "      <td>917 1st St, Dallas, TX 75001</td>\n",
       "      <td>2019-04-19 08:46:00</td>\n",
       "      <td>23.90</td>\n",
       "    </tr>\n",
       "    <tr>\n",
       "      <th>2</th>\n",
       "      <td>176559</td>\n",
       "      <td>Bose SoundSport Headphones</td>\n",
       "      <td>1</td>\n",
       "      <td>99.99</td>\n",
       "      <td>04/07/19 22:30</td>\n",
       "      <td>682 Chestnut St, Boston, MA 02215</td>\n",
       "      <td>2019-04-07 22:30:00</td>\n",
       "      <td>99.99</td>\n",
       "    </tr>\n",
       "    <tr>\n",
       "      <th>3</th>\n",
       "      <td>176560</td>\n",
       "      <td>Google Phone</td>\n",
       "      <td>1</td>\n",
       "      <td>600.00</td>\n",
       "      <td>04/12/19 14:38</td>\n",
       "      <td>669 Spruce St, Los Angeles, CA 90001</td>\n",
       "      <td>2019-04-12 14:38:00</td>\n",
       "      <td>600.00</td>\n",
       "    </tr>\n",
       "    <tr>\n",
       "      <th>4</th>\n",
       "      <td>176560</td>\n",
       "      <td>Wired Headphones</td>\n",
       "      <td>1</td>\n",
       "      <td>11.99</td>\n",
       "      <td>04/12/19 14:38</td>\n",
       "      <td>669 Spruce St, Los Angeles, CA 90001</td>\n",
       "      <td>2019-04-12 14:38:00</td>\n",
       "      <td>11.99</td>\n",
       "    </tr>\n",
       "    <tr>\n",
       "      <th>5</th>\n",
       "      <td>176561</td>\n",
       "      <td>Wired Headphones</td>\n",
       "      <td>1</td>\n",
       "      <td>11.99</td>\n",
       "      <td>04/30/19 09:27</td>\n",
       "      <td>333 8th St, Los Angeles, CA 90001</td>\n",
       "      <td>2019-04-30 09:27:00</td>\n",
       "      <td>11.99</td>\n",
       "    </tr>\n",
       "  </tbody>\n",
       "</table>\n",
       "</div>"
      ],
      "text/plain": [
       "  Order ID                     Product  Quantity Ordered  Price Each  \\\n",
       "0   176558        USB-C Charging Cable                 2       11.95   \n",
       "2   176559  Bose SoundSport Headphones                 1       99.99   \n",
       "3   176560                Google Phone                 1      600.00   \n",
       "4   176560            Wired Headphones                 1       11.99   \n",
       "5   176561            Wired Headphones                 1       11.99   \n",
       "\n",
       "       Order Date                      Purchase Address                Date  \\\n",
       "0  04/19/19 08:46          917 1st St, Dallas, TX 75001 2019-04-19 08:46:00   \n",
       "2  04/07/19 22:30     682 Chestnut St, Boston, MA 02215 2019-04-07 22:30:00   \n",
       "3  04/12/19 14:38  669 Spruce St, Los Angeles, CA 90001 2019-04-12 14:38:00   \n",
       "4  04/12/19 14:38  669 Spruce St, Los Angeles, CA 90001 2019-04-12 14:38:00   \n",
       "5  04/30/19 09:27     333 8th St, Los Angeles, CA 90001 2019-04-30 09:27:00   \n",
       "\n",
       "   Total Order  \n",
       "0        23.90  \n",
       "2        99.99  \n",
       "3       600.00  \n",
       "4        11.99  \n",
       "5        11.99  "
      ]
     },
     "execution_count": 15,
     "metadata": {},
     "output_type": "execute_result"
    }
   ],
   "source": [
    "data.head()"
   ]
  },
  {
   "cell_type": "markdown",
   "metadata": {},
   "source": [
    "### Best month for sales\n",
    "  *   Both quantity and total order"
   ]
  },
  {
   "cell_type": "code",
   "execution_count": 16,
   "metadata": {},
   "outputs": [
    {
     "data": {
      "image/png": "[encoded data removed]",
      "text/plain": [
       "<Figure size 720x360 with 1 Axes>"
      ]
     },
     "metadata": {
      "needs_background": "light"
     },
     "output_type": "display_data"
    }
   ],
   "source": [
    "import matplotlib.ticker as ticker\n",
    "fig,ax = plt.subplots(figsize=(10,5))\n",
    "ax.plot(data.groupby(data['Date'].dt.month).agg({'Total Order':'sum'}),c='g')\n",
    "plt.xticks([1,2,3,4,5,6,7,8,9,10,11,12],fontsize=12)\n",
    "\n",
    "formatter = ticker.FuncFormatter(lambda x,p: '$'+ format(int(x),','))\n",
    "ax.yaxis.set_major_formatter(formatter)\n",
    "\n",
    "plt.yticks(fontsize=12)\n",
    "plt.title('Sales alog the year',fontsize=20);"
   ]
  },
  {
   "cell_type": "code",
   "execution_count": 17,
   "metadata": {},
   "outputs": [
    {
     "data": {
      "text/html": [
       "<style  type=\"text/css\" >\n",
       "</style><table id=\"T_b6481f65_5ff5_11eb_89c6_3cf01112a74f\" ><thead>    <tr>        <th class=\"blank level0\" ></th>        <th class=\"col_heading level0 col0\" >Total Order</th>    </tr>    <tr>        <th class=\"index_name level0\" >Date</th>        <th class=\"blank\" ></th>    </tr></thead><tbody>\n",
       "                <tr>\n",
       "                        <th id=\"T_b6481f65_5ff5_11eb_89c6_3cf01112a74flevel0_row0\" class=\"row_heading level0 row0\" >December</th>\n",
       "                        <td id=\"T_b6481f65_5ff5_11eb_89c6_3cf01112a74frow0_col0\" class=\"data row0 col0\" >$4,613,443</td>\n",
       "            </tr>\n",
       "            <tr>\n",
       "                        <th id=\"T_b6481f65_5ff5_11eb_89c6_3cf01112a74flevel0_row1\" class=\"row_heading level0 row1\" >October</th>\n",
       "                        <td id=\"T_b6481f65_5ff5_11eb_89c6_3cf01112a74frow1_col0\" class=\"data row1 col0\" >$3,736,727</td>\n",
       "            </tr>\n",
       "            <tr>\n",
       "                        <th id=\"T_b6481f65_5ff5_11eb_89c6_3cf01112a74flevel0_row2\" class=\"row_heading level0 row2\" >April</th>\n",
       "                        <td id=\"T_b6481f65_5ff5_11eb_89c6_3cf01112a74frow2_col0\" class=\"data row2 col0\" >$3,390,670</td>\n",
       "            </tr>\n",
       "            <tr>\n",
       "                        <th id=\"T_b6481f65_5ff5_11eb_89c6_3cf01112a74flevel0_row3\" class=\"row_heading level0 row3\" >November</th>\n",
       "                        <td id=\"T_b6481f65_5ff5_11eb_89c6_3cf01112a74frow3_col0\" class=\"data row3 col0\" >$3,199,603</td>\n",
       "            </tr>\n",
       "            <tr>\n",
       "                        <th id=\"T_b6481f65_5ff5_11eb_89c6_3cf01112a74flevel0_row4\" class=\"row_heading level0 row4\" >May</th>\n",
       "                        <td id=\"T_b6481f65_5ff5_11eb_89c6_3cf01112a74frow4_col0\" class=\"data row4 col0\" >$3,152,607</td>\n",
       "            </tr>\n",
       "    </tbody></table>"
      ],
      "text/plain": [
       "<pandas.io.formats.style.Styler at 0x1cddeb2ef40>"
      ]
     },
     "execution_count": 17,
     "metadata": {},
     "output_type": "execute_result"
    }
   ],
   "source": [
    "data.groupby(data['Date'].dt.month_name()).agg({'Total Order':'sum'}).nlargest(5,'Total Order').style.format({'Total Order':'${:,.0f}'})"
   ]
  },
  {
   "cell_type": "code",
   "execution_count": 18,
   "metadata": {},
   "outputs": [
    {
     "data": {
      "image/png": "[encoded data removed]",
      "text/plain": [
       "<Figure size 720x360 with 1 Axes>"
      ]
     },
     "metadata": {
      "needs_background": "light"
     },
     "output_type": "display_data"
    }
   ],
   "source": [
    "fig,ax = plt.subplots(figsize=(10,5))\n",
    "plt.plot(data.groupby(data['Date'].dt.month).agg({'Quantity Ordered':'sum'}))\n",
    "plt.xticks([1,2,3,4,5,6,7,8,9,10,11,12],fontsize=12)\n",
    "\n",
    "formatter = ticker.FuncFormatter(lambda x,p: format(int(x),','))\n",
    "ax.yaxis.set_major_formatter(formatter)\n",
    "\n",
    "\n",
    "plt.yticks(fontsize=12)\n",
    "plt.title('Quantity alog the year',fontsize=20);"
   ]
  },
  {
   "cell_type": "code",
   "execution_count": 19,
   "metadata": {},
   "outputs": [
    {
     "data": {
      "text/html": [
       "<style  type=\"text/css\" >\n",
       "</style><table id=\"T_b6a46ea7_5ff5_11eb_b60e_3cf01112a74f\" ><thead>    <tr>        <th class=\"blank level0\" ></th>        <th class=\"col_heading level0 col0\" >Quantity Ordered</th>    </tr>    <tr>        <th class=\"index_name level0\" >Date</th>        <th class=\"blank\" ></th>    </tr></thead><tbody>\n",
       "                <tr>\n",
       "                        <th id=\"T_b6a46ea7_5ff5_11eb_b60e_3cf01112a74flevel0_row0\" class=\"row_heading level0 row0\" >December</th>\n",
       "                        <td id=\"T_b6a46ea7_5ff5_11eb_b60e_3cf01112a74frow0_col0\" class=\"data row0 col0\" >28,114</td>\n",
       "            </tr>\n",
       "            <tr>\n",
       "                        <th id=\"T_b6a46ea7_5ff5_11eb_b60e_3cf01112a74flevel0_row1\" class=\"row_heading level0 row1\" >October</th>\n",
       "                        <td id=\"T_b6a46ea7_5ff5_11eb_b60e_3cf01112a74frow1_col0\" class=\"data row1 col0\" >22,703</td>\n",
       "            </tr>\n",
       "            <tr>\n",
       "                        <th id=\"T_b6a46ea7_5ff5_11eb_b60e_3cf01112a74flevel0_row2\" class=\"row_heading level0 row2\" >April</th>\n",
       "                        <td id=\"T_b6a46ea7_5ff5_11eb_b60e_3cf01112a74frow2_col0\" class=\"data row2 col0\" >20,558</td>\n",
       "            </tr>\n",
       "            <tr>\n",
       "                        <th id=\"T_b6a46ea7_5ff5_11eb_b60e_3cf01112a74flevel0_row3\" class=\"row_heading level0 row3\" >November</th>\n",
       "                        <td id=\"T_b6a46ea7_5ff5_11eb_b60e_3cf01112a74frow3_col0\" class=\"data row3 col0\" >19,798</td>\n",
       "            </tr>\n",
       "            <tr>\n",
       "                        <th id=\"T_b6a46ea7_5ff5_11eb_b60e_3cf01112a74flevel0_row4\" class=\"row_heading level0 row4\" >May</th>\n",
       "                        <td id=\"T_b6a46ea7_5ff5_11eb_b60e_3cf01112a74frow4_col0\" class=\"data row4 col0\" >18,667</td>\n",
       "            </tr>\n",
       "    </tbody></table>"
      ],
      "text/plain": [
       "<pandas.io.formats.style.Styler at 0x1cde1469d30>"
      ]
     },
     "execution_count": 19,
     "metadata": {},
     "output_type": "execute_result"
    }
   ],
   "source": [
    "data.groupby(data['Date'].dt.month_name()).agg({'Quantity Ordered':'sum'}).nlargest(5,'Quantity Ordered').style.format({'Quantity Ordered':'{:,.0f}'})"
   ]
  },
  {
   "cell_type": "markdown",
   "metadata": {},
   "source": [
    "### City/State with the highest number of sales\n",
    "\n",
    "   * We had to do first some feature engenieering\n",
    "       1. Extract: \n",
    "           - City\n",
    "           - State\n",
    "           - Zip"
   ]
  },
  {
   "cell_type": "code",
   "execution_count": 20,
   "metadata": {},
   "outputs": [],
   "source": [
    "data['Zip'] = data['Purchase Address'].apply(lambda x:x[-5:])\n",
    "data['Purchase Address'] = data['Purchase Address'].apply(lambda x:x[:-6])"
   ]
  },
  {
   "cell_type": "code",
   "execution_count": 21,
   "metadata": {},
   "outputs": [],
   "source": [
    "data['Street'] = data['Purchase Address'].apply(lambda x:x.split(',')[0])\n",
    "data['City'] = data['Purchase Address'].apply(lambda x:x.split(',')[1])\n",
    "data['State'] = data['Purchase Address'].apply(lambda x:x.split(',')[2])"
   ]
  },
  {
   "cell_type": "code",
   "execution_count": 22,
   "metadata": {},
   "outputs": [],
   "source": [
    "data['City'] = data['City'].str.strip()\n",
    "data['State'] = data['State'].str.strip()"
   ]
  },
  {
   "cell_type": "code",
   "execution_count": 23,
   "metadata": {},
   "outputs": [],
   "source": [
    "data.drop('Purchase Address',axis=1,inplace=True)"
   ]
  },
  {
   "cell_type": "code",
   "execution_count": 24,
   "metadata": {},
   "outputs": [
    {
     "data": {
      "text/html": [
       "<div>\n",
       "<style scoped>\n",
       "    .dataframe tbody tr th:only-of-type {\n",
       "        vertical-align: middle;\n",
       "    }\n",
       "\n",
       "    .dataframe tbody tr th {\n",
       "        vertical-align: top;\n",
       "    }\n",
       "\n",
       "    .dataframe thead th {\n",
       "        text-align: right;\n",
       "    }\n",
       "</style>\n",
       "<table border=\"1\" class=\"dataframe\">\n",
       "  <thead>\n",
       "    <tr style=\"text-align: right;\">\n",
       "      <th></th>\n",
       "      <th>Order ID</th>\n",
       "      <th>Product</th>\n",
       "      <th>Quantity Ordered</th>\n",
       "      <th>Price Each</th>\n",
       "      <th>Order Date</th>\n",
       "      <th>Date</th>\n",
       "      <th>Total Order</th>\n",
       "      <th>Zip</th>\n",
       "      <th>Street</th>\n",
       "      <th>City</th>\n",
       "      <th>State</th>\n",
       "    </tr>\n",
       "  </thead>\n",
       "  <tbody>\n",
       "    <tr>\n",
       "      <th>0</th>\n",
       "      <td>176558</td>\n",
       "      <td>USB-C Charging Cable</td>\n",
       "      <td>2</td>\n",
       "      <td>11.95</td>\n",
       "      <td>04/19/19 08:46</td>\n",
       "      <td>2019-04-19 08:46:00</td>\n",
       "      <td>23.90</td>\n",
       "      <td>75001</td>\n",
       "      <td>917 1st St</td>\n",
       "      <td>Dallas</td>\n",
       "      <td>TX</td>\n",
       "    </tr>\n",
       "    <tr>\n",
       "      <th>2</th>\n",
       "      <td>176559</td>\n",
       "      <td>Bose SoundSport Headphones</td>\n",
       "      <td>1</td>\n",
       "      <td>99.99</td>\n",
       "      <td>04/07/19 22:30</td>\n",
       "      <td>2019-04-07 22:30:00</td>\n",
       "      <td>99.99</td>\n",
       "      <td>02215</td>\n",
       "      <td>682 Chestnut St</td>\n",
       "      <td>Boston</td>\n",
       "      <td>MA</td>\n",
       "    </tr>\n",
       "    <tr>\n",
       "      <th>3</th>\n",
       "      <td>176560</td>\n",
       "      <td>Google Phone</td>\n",
       "      <td>1</td>\n",
       "      <td>600.00</td>\n",
       "      <td>04/12/19 14:38</td>\n",
       "      <td>2019-04-12 14:38:00</td>\n",
       "      <td>600.00</td>\n",
       "      <td>90001</td>\n",
       "      <td>669 Spruce St</td>\n",
       "      <td>Los Angeles</td>\n",
       "      <td>CA</td>\n",
       "    </tr>\n",
       "    <tr>\n",
       "      <th>4</th>\n",
       "      <td>176560</td>\n",
       "      <td>Wired Headphones</td>\n",
       "      <td>1</td>\n",
       "      <td>11.99</td>\n",
       "      <td>04/12/19 14:38</td>\n",
       "      <td>2019-04-12 14:38:00</td>\n",
       "      <td>11.99</td>\n",
       "      <td>90001</td>\n",
       "      <td>669 Spruce St</td>\n",
       "      <td>Los Angeles</td>\n",
       "      <td>CA</td>\n",
       "    </tr>\n",
       "    <tr>\n",
       "      <th>5</th>\n",
       "      <td>176561</td>\n",
       "      <td>Wired Headphones</td>\n",
       "      <td>1</td>\n",
       "      <td>11.99</td>\n",
       "      <td>04/30/19 09:27</td>\n",
       "      <td>2019-04-30 09:27:00</td>\n",
       "      <td>11.99</td>\n",
       "      <td>90001</td>\n",
       "      <td>333 8th St</td>\n",
       "      <td>Los Angeles</td>\n",
       "      <td>CA</td>\n",
       "    </tr>\n",
       "  </tbody>\n",
       "</table>\n",
       "</div>"
      ],
      "text/plain": [
       "  Order ID                     Product  Quantity Ordered  Price Each  \\\n",
       "0   176558        USB-C Charging Cable                 2       11.95   \n",
       "2   176559  Bose SoundSport Headphones                 1       99.99   \n",
       "3   176560                Google Phone                 1      600.00   \n",
       "4   176560            Wired Headphones                 1       11.99   \n",
       "5   176561            Wired Headphones                 1       11.99   \n",
       "\n",
       "       Order Date                Date  Total Order    Zip           Street  \\\n",
       "0  04/19/19 08:46 2019-04-19 08:46:00        23.90  75001       917 1st St   \n",
       "2  04/07/19 22:30 2019-04-07 22:30:00        99.99  02215  682 Chestnut St   \n",
       "3  04/12/19 14:38 2019-04-12 14:38:00       600.00  90001    669 Spruce St   \n",
       "4  04/12/19 14:38 2019-04-12 14:38:00        11.99  90001    669 Spruce St   \n",
       "5  04/30/19 09:27 2019-04-30 09:27:00        11.99  90001       333 8th St   \n",
       "\n",
       "          City State  \n",
       "0       Dallas    TX  \n",
       "2       Boston    MA  \n",
       "3  Los Angeles    CA  \n",
       "4  Los Angeles    CA  \n",
       "5  Los Angeles    CA  "
      ]
     },
     "execution_count": 24,
     "metadata": {},
     "output_type": "execute_result"
    }
   ],
   "source": [
    "data.head()"
   ]
  },
  {
   "cell_type": "code",
   "execution_count": 25,
   "metadata": {},
   "outputs": [
    {
     "data": {
      "text/html": [
       "<style  type=\"text/css\" >\n",
       "</style><table id=\"T_b768ce8f_5ff5_11eb_8a15_3cf01112a74f\" ><thead>    <tr>        <th class=\"blank level0\" ></th>        <th class=\"col_heading level0 col0\" >Total Order</th>    </tr>    <tr>        <th class=\"index_name level0\" >City</th>        <th class=\"blank\" ></th>    </tr></thead><tbody>\n",
       "                <tr>\n",
       "                        <th id=\"T_b768ce8f_5ff5_11eb_8a15_3cf01112a74flevel0_row0\" class=\"row_heading level0 row0\" >San Francisco</th>\n",
       "                        <td id=\"T_b768ce8f_5ff5_11eb_8a15_3cf01112a74frow0_col0\" class=\"data row0 col0\" >$8,262,204</td>\n",
       "            </tr>\n",
       "            <tr>\n",
       "                        <th id=\"T_b768ce8f_5ff5_11eb_8a15_3cf01112a74flevel0_row1\" class=\"row_heading level0 row1\" >Los Angeles</th>\n",
       "                        <td id=\"T_b768ce8f_5ff5_11eb_8a15_3cf01112a74frow1_col0\" class=\"data row1 col0\" >$5,452,571</td>\n",
       "            </tr>\n",
       "            <tr>\n",
       "                        <th id=\"T_b768ce8f_5ff5_11eb_8a15_3cf01112a74flevel0_row2\" class=\"row_heading level0 row2\" >New York City</th>\n",
       "                        <td id=\"T_b768ce8f_5ff5_11eb_8a15_3cf01112a74frow2_col0\" class=\"data row2 col0\" >$4,664,317</td>\n",
       "            </tr>\n",
       "    </tbody></table>"
      ],
      "text/plain": [
       "<pandas.io.formats.style.Styler at 0x1cde14b7a60>"
      ]
     },
     "execution_count": 25,
     "metadata": {},
     "output_type": "execute_result"
    }
   ],
   "source": [
    "data.groupby(data['City']).agg({'Total Order': 'sum'}).nlargest(3,'Total Order').style.format({'Total Order':'${:,.0f}'})"
   ]
  },
  {
   "cell_type": "code",
   "execution_count": 26,
   "metadata": {},
   "outputs": [
    {
     "data": {
      "text/html": [
       "<style  type=\"text/css\" >\n",
       "</style><table id=\"T_b76eff69_5ff5_11eb_971e_3cf01112a74f\" ><thead>    <tr>        <th class=\"blank level0\" ></th>        <th class=\"col_heading level0 col0\" >Total Order</th>    </tr>    <tr>        <th class=\"index_name level0\" >State</th>        <th class=\"blank\" ></th>    </tr></thead><tbody>\n",
       "                <tr>\n",
       "                        <th id=\"T_b76eff69_5ff5_11eb_971e_3cf01112a74flevel0_row0\" class=\"row_heading level0 row0\" >CA</th>\n",
       "                        <td id=\"T_b76eff69_5ff5_11eb_971e_3cf01112a74frow0_col0\" class=\"data row0 col0\" >$13,714,775</td>\n",
       "            </tr>\n",
       "            <tr>\n",
       "                        <th id=\"T_b76eff69_5ff5_11eb_971e_3cf01112a74flevel0_row1\" class=\"row_heading level0 row1\" >NY</th>\n",
       "                        <td id=\"T_b76eff69_5ff5_11eb_971e_3cf01112a74frow1_col0\" class=\"data row1 col0\" >$4,664,317</td>\n",
       "            </tr>\n",
       "            <tr>\n",
       "                        <th id=\"T_b76eff69_5ff5_11eb_971e_3cf01112a74flevel0_row2\" class=\"row_heading level0 row2\" >TX</th>\n",
       "                        <td id=\"T_b76eff69_5ff5_11eb_971e_3cf01112a74frow2_col0\" class=\"data row2 col0\" >$4,587,557</td>\n",
       "            </tr>\n",
       "    </tbody></table>"
      ],
      "text/plain": [
       "<pandas.io.formats.style.Styler at 0x1cdd68b9820>"
      ]
     },
     "execution_count": 26,
     "metadata": {},
     "output_type": "execute_result"
    }
   ],
   "source": [
    "data.groupby(data['State']).agg({'Total Order': 'sum'}).nlargest(3,'Total Order').style.format({'Total Order':'${:,.0f}'})"
   ]
  },
  {
   "cell_type": "markdown",
   "metadata": {},
   "source": [
    "### Both tables sees almost identical, but let´s review why it happens\n",
    "   * There´s only 8 States on the dataframe\n",
    "   * There´s only 8 Cities to on the dataframe"
   ]
  },
  {
   "cell_type": "code",
   "execution_count": 27,
   "metadata": {},
   "outputs": [
    {
     "data": {
      "text/plain": [
       "<matplotlib.axes._subplots.AxesSubplot at 0x1cdd77865b0>"
      ]
     },
     "execution_count": 27,
     "metadata": {},
     "output_type": "execute_result"
    },
    {
     "data": {
      "image/png": "[encoded data removed]",
      "text/plain": [
       "<Figure size 432x288 with 1 Axes>"
      ]
     },
     "metadata": {
      "needs_background": "light"
     },
     "output_type": "display_data"
    }
   ],
   "source": [
    "sns.countplot(data=data,x='State',palette='Pastel2_r')"
   ]
  },
  {
   "cell_type": "code",
   "execution_count": 28,
   "metadata": {},
   "outputs": [
    {
     "data": {
      "image/png": "[encoded data removed]",
      "text/plain": [
       "<Figure size 432x288 with 1 Axes>"
      ]
     },
     "metadata": {
      "needs_background": "light"
     },
     "output_type": "display_data"
    }
   ],
   "source": [
    "sns.countplot(data=data,x='City',palette='Purples')\n",
    "plt.xticks(rotation=90);"
   ]
  },
  {
   "cell_type": "markdown",
   "metadata": {},
   "source": [
    "### If we want to run a campaign what hours would be the best?"
   ]
  },
  {
   "cell_type": "code",
   "execution_count": 30,
   "metadata": {},
   "outputs": [
    {
     "data": {
      "image/png": "[encoded data removed]",
      "text/plain": [
       "<Figure size 864x576 with 1 Axes>"
      ]
     },
     "metadata": {
      "needs_background": "light"
     },
     "output_type": "display_data"
    }
   ],
   "source": [
    "fig,ax = plt.subplots(figsize=(12,8))\n",
    "plt.plot(data.groupby(data['Date'].dt.hour).agg({'Total Order':'sum'}))\n",
    "formatter = ticker.FuncFormatter(lambda x,p: '$'+ format(int(x),','))\n",
    "ax.yaxis.set_major_formatter(formatter)\n",
    "plt.title('Sales by hour',fontsize=20)\n",
    "plt.yticks(fontsize=15)\n",
    "plt.xticks(np.linspace(0,24,25),fontsize=15)\n",
    "\n",
    "plt.savefig('C:\\\\Users\\\\carlo\\\\Desktop\\\\Sales by hour.jpg');"
   ]
  },
  {
   "cell_type": "code",
   "execution_count": 332,
   "metadata": {},
   "outputs": [
    {
     "data": {
      "text/html": [
       "<style  type=\"text/css\" >\n",
       "</style><table id=\"T_76d0668d_5f77_11eb_8747_3cf01112a74f\" ><thead>    <tr>        <th class=\"blank level0\" ></th>        <th class=\"col_heading level0 col0\" >Total Order</th>    </tr>    <tr>        <th class=\"index_name level0\" >Product</th>        <th class=\"blank\" ></th>    </tr></thead><tbody>\n",
       "                <tr>\n",
       "                        <th id=\"T_76d0668d_5f77_11eb_8747_3cf01112a74flevel0_row0\" class=\"row_heading level0 row0\" >Macbook Pro Laptop</th>\n",
       "                        <td id=\"T_76d0668d_5f77_11eb_8747_3cf01112a74frow0_col0\" class=\"data row0 col0\" >$8,037,600</td>\n",
       "            </tr>\n",
       "            <tr>\n",
       "                        <th id=\"T_76d0668d_5f77_11eb_8747_3cf01112a74flevel0_row1\" class=\"row_heading level0 row1\" >iPhone</th>\n",
       "                        <td id=\"T_76d0668d_5f77_11eb_8747_3cf01112a74frow1_col0\" class=\"data row1 col0\" >$4,794,300</td>\n",
       "            </tr>\n",
       "            <tr>\n",
       "                        <th id=\"T_76d0668d_5f77_11eb_8747_3cf01112a74flevel0_row2\" class=\"row_heading level0 row2\" >ThinkPad Laptop</th>\n",
       "                        <td id=\"T_76d0668d_5f77_11eb_8747_3cf01112a74frow2_col0\" class=\"data row2 col0\" >$4,129,959</td>\n",
       "            </tr>\n",
       "    </tbody></table>"
      ],
      "text/plain": [
       "<pandas.io.formats.style.Styler at 0x20166fe74c0>"
      ]
     },
     "execution_count": 332,
     "metadata": {},
     "output_type": "execute_result"
    }
   ],
   "source": [
    "data.groupby(data['Product']).agg({'Total Order': 'sum'}).nlargest(3,'Total Order').style.format({'Total Order':'${:,.0f}'})"
   ]
  },
  {
   "cell_type": "code",
   "execution_count": 333,
   "metadata": {},
   "outputs": [
    {
     "data": {
      "text/html": [
       "<style  type=\"text/css\" >\n",
       "</style><table id=\"T_76d9fa1b_5f77_11eb_ba40_3cf01112a74f\" ><thead>    <tr>        <th class=\"blank level0\" ></th>        <th class=\"col_heading level0 col0\" >Quantity Ordered</th>    </tr>    <tr>        <th class=\"index_name level0\" >Product</th>        <th class=\"blank\" ></th>    </tr></thead><tbody>\n",
       "                <tr>\n",
       "                        <th id=\"T_76d9fa1b_5f77_11eb_ba40_3cf01112a74flevel0_row0\" class=\"row_heading level0 row0\" >AAA Batteries (4-pack)</th>\n",
       "                        <td id=\"T_76d9fa1b_5f77_11eb_ba40_3cf01112a74frow0_col0\" class=\"data row0 col0\" >31,017</td>\n",
       "            </tr>\n",
       "            <tr>\n",
       "                        <th id=\"T_76d9fa1b_5f77_11eb_ba40_3cf01112a74flevel0_row1\" class=\"row_heading level0 row1\" >AA Batteries (4-pack)</th>\n",
       "                        <td id=\"T_76d9fa1b_5f77_11eb_ba40_3cf01112a74frow1_col0\" class=\"data row1 col0\" >27,635</td>\n",
       "            </tr>\n",
       "            <tr>\n",
       "                        <th id=\"T_76d9fa1b_5f77_11eb_ba40_3cf01112a74flevel0_row2\" class=\"row_heading level0 row2\" >USB-C Charging Cable</th>\n",
       "                        <td id=\"T_76d9fa1b_5f77_11eb_ba40_3cf01112a74frow2_col0\" class=\"data row2 col0\" >23,975</td>\n",
       "            </tr>\n",
       "    </tbody></table>"
      ],
      "text/plain": [
       "<pandas.io.formats.style.Styler at 0x20166f0e040>"
      ]
     },
     "execution_count": 333,
     "metadata": {},
     "output_type": "execute_result"
    }
   ],
   "source": [
    "data.groupby(data['Product']).agg({'Quantity Ordered': 'sum'}).nlargest(3,'Quantity Ordered').style.format({'Quantity Ordered':'{:,.0f}'})"
   ]
  },
  {
   "cell_type": "markdown",
   "metadata": {},
   "source": [
    "### Products with the most sales and the pair sold together"
   ]
  },
  {
   "cell_type": "code",
   "execution_count": 373,
   "metadata": {},
   "outputs": [
    {
     "data": {
      "text/html": [
       "<div>\n",
       "<style scoped>\n",
       "    .dataframe tbody tr th:only-of-type {\n",
       "        vertical-align: middle;\n",
       "    }\n",
       "\n",
       "    .dataframe tbody tr th {\n",
       "        vertical-align: top;\n",
       "    }\n",
       "\n",
       "    .dataframe thead th {\n",
       "        text-align: right;\n",
       "    }\n",
       "</style>\n",
       "<table border=\"1\" class=\"dataframe\">\n",
       "  <thead>\n",
       "    <tr style=\"text-align: right;\">\n",
       "      <th></th>\n",
       "      <th>Order ID</th>\n",
       "      <th>Product</th>\n",
       "      <th>Quantity Ordered</th>\n",
       "      <th>Price Each</th>\n",
       "      <th>Order Date</th>\n",
       "      <th>Date</th>\n",
       "      <th>Total Order</th>\n",
       "      <th>Zip</th>\n",
       "      <th>Street</th>\n",
       "      <th>City</th>\n",
       "      <th>State</th>\n",
       "    </tr>\n",
       "  </thead>\n",
       "  <tbody>\n",
       "    <tr>\n",
       "      <th>3</th>\n",
       "      <td>176560</td>\n",
       "      <td>Google Phone</td>\n",
       "      <td>1</td>\n",
       "      <td>600.00</td>\n",
       "      <td>04/12/19 14:38</td>\n",
       "      <td>2019-04-12 14:38:00</td>\n",
       "      <td>600.00</td>\n",
       "      <td>90001</td>\n",
       "      <td>669 Spruce St</td>\n",
       "      <td>Los Angeles</td>\n",
       "      <td>CA</td>\n",
       "    </tr>\n",
       "    <tr>\n",
       "      <th>4</th>\n",
       "      <td>176560</td>\n",
       "      <td>Wired Headphones</td>\n",
       "      <td>1</td>\n",
       "      <td>11.99</td>\n",
       "      <td>04/12/19 14:38</td>\n",
       "      <td>2019-04-12 14:38:00</td>\n",
       "      <td>11.99</td>\n",
       "      <td>90001</td>\n",
       "      <td>669 Spruce St</td>\n",
       "      <td>Los Angeles</td>\n",
       "      <td>CA</td>\n",
       "    </tr>\n",
       "    <tr>\n",
       "      <th>18</th>\n",
       "      <td>176574</td>\n",
       "      <td>Google Phone</td>\n",
       "      <td>1</td>\n",
       "      <td>600.00</td>\n",
       "      <td>04/03/19 19:42</td>\n",
       "      <td>2019-04-03 19:42:00</td>\n",
       "      <td>600.00</td>\n",
       "      <td>90001</td>\n",
       "      <td>20 Hill St</td>\n",
       "      <td>Los Angeles</td>\n",
       "      <td>CA</td>\n",
       "    </tr>\n",
       "    <tr>\n",
       "      <th>19</th>\n",
       "      <td>176574</td>\n",
       "      <td>USB-C Charging Cable</td>\n",
       "      <td>1</td>\n",
       "      <td>11.95</td>\n",
       "      <td>04/03/19 19:42</td>\n",
       "      <td>2019-04-03 19:42:00</td>\n",
       "      <td>11.95</td>\n",
       "      <td>90001</td>\n",
       "      <td>20 Hill St</td>\n",
       "      <td>Los Angeles</td>\n",
       "      <td>CA</td>\n",
       "    </tr>\n",
       "    <tr>\n",
       "      <th>30</th>\n",
       "      <td>176585</td>\n",
       "      <td>Bose SoundSport Headphones</td>\n",
       "      <td>1</td>\n",
       "      <td>99.99</td>\n",
       "      <td>04/07/19 11:31</td>\n",
       "      <td>2019-04-07 11:31:00</td>\n",
       "      <td>99.99</td>\n",
       "      <td>02215</td>\n",
       "      <td>823 Highland St</td>\n",
       "      <td>Boston</td>\n",
       "      <td>MA</td>\n",
       "    </tr>\n",
       "    <tr>\n",
       "      <th>31</th>\n",
       "      <td>176585</td>\n",
       "      <td>Bose SoundSport Headphones</td>\n",
       "      <td>1</td>\n",
       "      <td>99.99</td>\n",
       "      <td>04/07/19 11:31</td>\n",
       "      <td>2019-04-07 11:31:00</td>\n",
       "      <td>99.99</td>\n",
       "      <td>02215</td>\n",
       "      <td>823 Highland St</td>\n",
       "      <td>Boston</td>\n",
       "      <td>MA</td>\n",
       "    </tr>\n",
       "  </tbody>\n",
       "</table>\n",
       "</div>"
      ],
      "text/plain": [
       "   Order ID                     Product  Quantity Ordered  Price Each  \\\n",
       "3    176560                Google Phone                 1      600.00   \n",
       "4    176560            Wired Headphones                 1       11.99   \n",
       "18   176574                Google Phone                 1      600.00   \n",
       "19   176574        USB-C Charging Cable                 1       11.95   \n",
       "30   176585  Bose SoundSport Headphones                 1       99.99   \n",
       "31   176585  Bose SoundSport Headphones                 1       99.99   \n",
       "\n",
       "        Order Date                Date  Total Order    Zip           Street  \\\n",
       "3   04/12/19 14:38 2019-04-12 14:38:00       600.00  90001    669 Spruce St   \n",
       "4   04/12/19 14:38 2019-04-12 14:38:00        11.99  90001    669 Spruce St   \n",
       "18  04/03/19 19:42 2019-04-03 19:42:00       600.00  90001       20 Hill St   \n",
       "19  04/03/19 19:42 2019-04-03 19:42:00        11.95  90001       20 Hill St   \n",
       "30  04/07/19 11:31 2019-04-07 11:31:00        99.99  02215  823 Highland St   \n",
       "31  04/07/19 11:31 2019-04-07 11:31:00        99.99  02215  823 Highland St   \n",
       "\n",
       "           City State  \n",
       "3   Los Angeles    CA  \n",
       "4   Los Angeles    CA  \n",
       "18  Los Angeles    CA  \n",
       "19  Los Angeles    CA  \n",
       "30       Boston    MA  \n",
       "31       Boston    MA  "
      ]
     },
     "execution_count": 373,
     "metadata": {},
     "output_type": "execute_result"
    }
   ],
   "source": [
    "data_dup = data[data['Order ID'].duplicated(keep=False)]\n",
    "data_dup.head(6)"
   ]
  },
  {
   "cell_type": "code",
   "execution_count": 374,
   "metadata": {},
   "outputs": [
    {
     "name": "stderr",
     "output_type": "stream",
     "text": [
      "<ipython-input-374-396f5816e26c>:1: SettingWithCopyWarning: \n",
      "A value is trying to be set on a copy of a slice from a DataFrame.\n",
      "Try using .loc[row_indexer,col_indexer] = value instead\n",
      "\n",
      "See the caveats in the documentation: https://pandas.pydata.org/pandas-docs/stable/user_guide/indexing.html#returning-a-view-versus-a-copy\n",
      "  data_dup['Grouped Products'] = data_dup.groupby('Order ID')['Product'].transform(lambda x:' ,'.join(x))\n"
     ]
    },
    {
     "data": {
      "text/html": [
       "<div>\n",
       "<style scoped>\n",
       "    .dataframe tbody tr th:only-of-type {\n",
       "        vertical-align: middle;\n",
       "    }\n",
       "\n",
       "    .dataframe tbody tr th {\n",
       "        vertical-align: top;\n",
       "    }\n",
       "\n",
       "    .dataframe thead th {\n",
       "        text-align: right;\n",
       "    }\n",
       "</style>\n",
       "<table border=\"1\" class=\"dataframe\">\n",
       "  <thead>\n",
       "    <tr style=\"text-align: right;\">\n",
       "      <th></th>\n",
       "      <th>Order ID</th>\n",
       "      <th>Grouped Products</th>\n",
       "    </tr>\n",
       "  </thead>\n",
       "  <tbody>\n",
       "    <tr>\n",
       "      <th>3</th>\n",
       "      <td>176560</td>\n",
       "      <td>Google Phone ,Wired Headphones</td>\n",
       "    </tr>\n",
       "    <tr>\n",
       "      <th>18</th>\n",
       "      <td>176574</td>\n",
       "      <td>Google Phone ,USB-C Charging Cable</td>\n",
       "    </tr>\n",
       "    <tr>\n",
       "      <th>30</th>\n",
       "      <td>176585</td>\n",
       "      <td>Bose SoundSport Headphones ,Bose SoundSport He...</td>\n",
       "    </tr>\n",
       "    <tr>\n",
       "      <th>32</th>\n",
       "      <td>176586</td>\n",
       "      <td>AAA Batteries (4-pack) ,Google Phone</td>\n",
       "    </tr>\n",
       "    <tr>\n",
       "      <th>119</th>\n",
       "      <td>176672</td>\n",
       "      <td>Lightning Charging Cable ,USB-C Charging Cable</td>\n",
       "    </tr>\n",
       "  </tbody>\n",
       "</table>\n",
       "</div>"
      ],
      "text/plain": [
       "    Order ID                                   Grouped Products\n",
       "3     176560                     Google Phone ,Wired Headphones\n",
       "18    176574                 Google Phone ,USB-C Charging Cable\n",
       "30    176585  Bose SoundSport Headphones ,Bose SoundSport He...\n",
       "32    176586               AAA Batteries (4-pack) ,Google Phone\n",
       "119   176672     Lightning Charging Cable ,USB-C Charging Cable"
      ]
     },
     "execution_count": 374,
     "metadata": {},
     "output_type": "execute_result"
    }
   ],
   "source": [
    "data_dup['Grouped Products'] = data_dup.groupby('Order ID')['Product'].transform(lambda x:' ,'.join(x))\n",
    "data_dup = data_dup[['Order ID','Grouped Products']].drop_duplicates()\n",
    "data_dup.head()"
   ]
  },
  {
   "cell_type": "code",
   "execution_count": 399,
   "metadata": {},
   "outputs": [
    {
     "data": {
      "text/plain": [
       "160873    5\n",
       "212334    4\n",
       "242936    4\n",
       "Name: Order ID, dtype: int64"
      ]
     },
     "execution_count": 399,
     "metadata": {},
     "output_type": "execute_result"
    }
   ],
   "source": [
    "data['Order ID'].value_counts().nlargest(3)"
   ]
  },
  {
   "cell_type": "markdown",
   "metadata": {},
   "source": [
    "## Top 10 products sold by group of 3"
   ]
  },
  {
   "cell_type": "code",
   "execution_count": 402,
   "metadata": {},
   "outputs": [
    {
     "name": "stdout",
     "output_type": "stream",
     "text": [
      "('iPhone', 'Lightning Charging Cable') 1005\n",
      "('Google Phone', 'USB-C Charging Cable') 987\n",
      "('iPhone', 'Wired Headphones') 447\n",
      "('Google Phone', 'Wired Headphones') 414\n",
      "('Vareebadd Phone', 'USB-C Charging Cable') 361\n"
     ]
    }
   ],
   "source": [
    "from itertools import combinations\n",
    "from collections import Counter \n",
    "\n",
    "count = Counter()\n",
    "\n",
    "for x in data_dup['Grouped Products']:\n",
    "    row_list = x.split(' ,')\n",
    "    count.update(Counter(combinations(row_list,2)))\n",
    "\n",
    "for key, value in count.most_common(5):\n",
    "    print(key,value)"
   ]
  },
  {
   "cell_type": "code",
   "execution_count": 393,
   "metadata": {},
   "outputs": [
    {
     "data": {
      "image/png": "[encoded data removed]",
      "text/plain": [
       "<Figure size 1080x360 with 2 Axes>"
      ]
     },
     "metadata": {
      "needs_background": "light"
     },
     "output_type": "display_data"
    }
   ],
   "source": [
    "fig,ax = plt.subplots(figsize=(15,5))\n",
    "\n",
    "ax.set_title('Products by Sales and Quantity Sold',fontsize=20)\n",
    "products_total = data.groupby(data['Product']).agg({'Total Order': 'sum'})\n",
    "sns.barplot(data=products_total, x=products_total.index,y=products_total['Total Order'],palette='Greens_r')\n",
    "formatter = ticker.FuncFormatter(lambda x,p: '$' + format(int(x),','))\n",
    "ax.yaxis.set_major_formatter(formatter)\n",
    "ax.set_ylabel('Total Ordered',c='g')\n",
    "ax.set_xticklabels(products_total.index,rotation=90)\n",
    "\n",
    "ax2 = ax.twinx()\n",
    "ax2.plot(data.groupby(data['Product']).agg({'Quantity Ordered': 'sum'}),c='b')\n",
    "formatter2 = ticker.FuncFormatter(lambda x,p: format(int(x),','))\n",
    "ax2.yaxis.set_major_formatter(formatter2)\n",
    "ax2.set_ylabel('Quantity Ordered',c='b');"
   ]
  },
  {
   "cell_type": "code",
   "execution_count": null,
   "metadata": {},
   "outputs": [],
   "source": []
  }
 ],
 "metadata": {
  "kernelspec": {
   "display_name": "Python 3",
   "language": "python",
   "name": "python3"
  },
  "language_info": {
   "codemirror_mode": {
    "name": "ipython",
    "version": 3
   },
   "file_extension": ".py",
   "mimetype": "text/x-python",
   "name": "python",
   "nbconvert_exporter": "python",
   "pygments_lexer": "ipython3",
   "version": "3.8.3"
  }
 },
 "nbformat": 4,
 "nbformat_minor": 4
}
